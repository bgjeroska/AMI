{
 "cells": [
  {
   "cell_type": "markdown",
   "metadata": {},
   "source": [
    "# <span style='color:Blue'> TIME SERIES </span>"
   ]
  },
  {
   "cell_type": "markdown",
   "metadata": {},
   "source": [
    "This `Notebook` is based on the analysis of a dataset called “Atmospheric CO2 from Continuous Air Samples at Mauna Loa Observatory, Hawaii, U.S.A.,” which collected CO2 samples from March 1958 to December 2001."
   ]
  },
  {
   "cell_type": "markdown",
   "metadata": {},
   "source": [
    "### Import Libraries"
   ]
  },
  {
   "cell_type": "code",
   "execution_count": null,
   "metadata": {},
   "outputs": [],
   "source": [
    "import pandas as pd\n",
    "import numpy as np\n",
    "import matplotlib\n",
    "import matplotlib.pyplot as plt\n",
    "import seaborn as sns\n",
    "from sklearn.model_selection import TimeSeriesSplit\n",
    "from sklearn.metrics import mean_squared_error, mean_absolute_error\n",
    "from math import sqrt\n",
    "\n",
    "import statsmodels.api as sm\n",
    "\n",
    "%matplotlib inline\n",
    "sns.set_style('whitegrid')\n",
    "from IPython.display import set_matplotlib_formats\n",
    "set_matplotlib_formats('svg')"
   ]
  },
  {
   "cell_type": "markdown",
   "metadata": {},
   "source": [
    "### Load Data"
   ]
  },
  {
   "cell_type": "code",
   "execution_count": null,
   "metadata": {},
   "outputs": [],
   "source": [
    "data = sm.datasets.co2.load_pandas()\n",
    "X = data.data\n",
    "\n",
    "date_min = X.index.min()\n",
    "date_max = X.index.max()\n",
    "print('Minimum date from data set: {}'.format(date_min))\n",
    "print('Maximum date from data set: {}'.format(date_max))"
   ]
  },
  {
   "cell_type": "markdown",
   "metadata": {},
   "source": [
    "Since it is a briefer amount of time, we will resample the dataset and use monthy averages."
   ]
  },
  {
   "cell_type": "code",
   "execution_count": null,
   "metadata": {},
   "outputs": [],
   "source": [
    "# The 'MS' string groups the data in buckets by start of the month\n",
    "X = X['co2'].resample('MS').mean()\n",
    "\n",
    "# The term bfill means that we use the value before filling in missing values\n",
    "X = X.fillna(X.bfill())\n",
    "\n",
    "X = pd.DataFrame(X)"
   ]
  },
  {
   "cell_type": "markdown",
   "metadata": {},
   "source": [
    "Visualization plays an important role in time series analysis and forecasting. Plots of the raw sample data can provide valuable diagnostics to identify temporal structures like trends, cycles, and seasonality that can influence the choice of model."
   ]
  },
  {
   "cell_type": "code",
   "execution_count": null,
   "metadata": {},
   "outputs": [],
   "source": [
    "sns.lineplot(x=X.index, y=\"co2\", data=X)\n",
    "plt.xticks(rotation=15)\n",
    "plt.title(\"Monthly CO2 Emissions\")\n",
    "plt.xlabel(\"Time\")\n",
    "plt.show()"
   ]
  },
  {
   "cell_type": "markdown",
   "metadata": {},
   "source": [
    "If we want to predict the CO2 Emmisions for the next few months, we will try to look at the past values and try to gauge and extract the pattern. Here, we observe a pattern within each year indicating a seasonal effect. Such observations will help us in predicting future values."
   ]
  },
  {
   "cell_type": "code",
   "execution_count": null,
   "metadata": {},
   "outputs": [],
   "source": [
    "from pandas.plotting import lag_plot\n",
    "\n",
    "lag_plot(X['co2'])"
   ]
  },
  {
   "cell_type": "markdown",
   "metadata": {},
   "source": [
    "From the lag plot above, we can see that the relationship is strongly positive that means the data has strong seasonality."
   ]
  },
  {
   "cell_type": "code",
   "execution_count": null,
   "metadata": {},
   "outputs": [],
   "source": [
    "# Let's plot ACF & PACF graphs to visualize AR & MA components\n",
    "import statsmodels.tsa.api as smt\n",
    "\n",
    "\n",
    "fig, axes = plt.subplots(1, 2)\n",
    "fig.set_figwidth(7.5)\n",
    "fig.set_figheight(3)\n",
    "smt.graphics.plot_acf(X['co2'], lags=30, ax=axes[0], alpha=0.5)\n",
    "smt.graphics.plot_pacf(X['co2'], lags=30, ax=axes[1], alpha=0.5)\n",
    "plt.tight_layout()"
   ]
  },
  {
   "cell_type": "markdown",
   "metadata": {},
   "source": [
    "#### Moving Average Smoothing\n",
    "\n",
    "\n",
    "Smoothing is a technique applied to time series to remove the fine-grained variation between time steps. The hope of smoothing is to remove noise and better expose the signal of the underlying causal processes. Moving averages are a simple and common type of smoothing used in time series analysis and time series forecasting. Calculating a moving average involves creating a new series where the values are comprised of the average of raw observations in the original time series.\n",
    "Also, moving average can help us to identify trends in time series. Becouse we are taking the average, it tends to smooth out noise and seasonality."
   ]
  },
  {
   "cell_type": "code",
   "execution_count": null,
   "metadata": {},
   "outputs": [],
   "source": [
    "# Let's plot the 12-Month Moving Rolling Mean & Variance and find Insights\n",
    "# Rolling Statistics\n",
    "X[\"Moving_Average\"] = X.rolling(window=12, center=True).mean()\n",
    "#rolvar = X.rolling(window=12).std()\n",
    "\n",
    "sns.lineplot(x=X.index, y=\"co2\", data=X)\n",
    "sns.lineplot(x=X.index, y=\"Moving_Average\", data=X)\n",
    "plt.xticks(rotation=15)\n",
    "plt.show()"
   ]
  },
  {
   "cell_type": "markdown",
   "metadata": {},
   "source": [
    "#### Seasonal Patterns in Time Series\n",
    "\n",
    "One way to think about the seasonal components to the time series of your data is to remove the trend from a time series, so that you can more easily investigate seasonality. To remove the trend, you can subtract the trend you computed above (rolling mean) from the original signal. This, however, will be dependent on how many data points you averaged over."
   ]
  },
  {
   "cell_type": "code",
   "execution_count": null,
   "metadata": {},
   "outputs": [],
   "source": [
    "X[\"Trend_Corrected\"] = X[\"co2\"] - X[\"Moving_Average\"]\n",
    "\n",
    "sns.lineplot(x=X.index, y=\"Trend_Corrected\", data=X)\n",
    "plt.xticks(rotation=15)\n",
    "plt.show()"
   ]
  },
  {
   "cell_type": "markdown",
   "metadata": {},
   "source": [
    "### Decomposing: Eliminating trend and seasonality\n",
    "\n",
    "Time series decomposition involves thinking of a series as a combination of trend, seasonality, and noise components. Decomposition provides a useful abstract model for thinking about time series generally and for better understanding problems during time series analysis and forecasting."
   ]
  },
  {
   "cell_type": "code",
   "execution_count": null,
   "metadata": {},
   "outputs": [],
   "source": [
    "decomposition_add = sm.tsa.seasonal_decompose(X[\"co2\"], period=12, model=\"additive\")\n",
    "# comment: seasonal_decompose expects index to be datetime format\n",
    "fig = decomposition_add.plot()\n",
    "plt.show()"
   ]
  },
  {
   "cell_type": "code",
   "execution_count": null,
   "metadata": {},
   "outputs": [],
   "source": [
    "def hist(series):\n",
    "    fig, ax= plt.subplots()\n",
    "    sns.distplot(series, ax=ax, hist_kws={'alpha': 0.8, 'edgecolor':'black', 'color': 'blue'},  \n",
    "                 kde_kws={'color': 'black', 'alpha': 0.7})\n",
    "    sns.despine()\n",
    "    return fig, ax\n",
    "\n",
    "hist(decomposition_add.resid)\n",
    "plt.show()"
   ]
  },
  {
   "cell_type": "markdown",
   "metadata": {},
   "source": [
    "## Naive Forecast"
   ]
  },
  {
   "cell_type": "code",
   "execution_count": null,
   "metadata": {},
   "outputs": [],
   "source": [
    "tscv = TimeSeriesSplit(n_splits=3)\n",
    "\n",
    "X_CO2 = X['co2']\n",
    "plt.figure(1)\n",
    "index = 1\n",
    "\n",
    "for train_index, test_index in tscv.split(X_CO2):\n",
    "    \n",
    "    train = X_CO2.iloc[train_index]\n",
    "    test = X_CO2.iloc[test_index]\n",
    "\n",
    "    print('Observations: %d' % (len(train) + len(test)))\n",
    "    print('Training Observations: %d' % (len(train)))\n",
    "    print('Testing Observations: %d' % (len(test)))\n",
    "\n",
    "    \n",
    "    dd = np.asarray(train)\n",
    "\n",
    "    lastvalue = dd[len(dd)-1]\n",
    "\n",
    "    y_hat = pd.DataFrame()\n",
    "    y_hat['co2'] = test.values\n",
    "    \n",
    "    y_hat['naive'] = lastvalue\n",
    "    \n",
    "    y_hat.index = test.index\n",
    "\n",
    "    plt.figure()\n",
    "    sns.lineplot(x=train.index, y=train, label='Train')\n",
    "    sns.lineplot(x=test.index, y=test, label='Test')\n",
    "    sns.lineplot(x=y_hat.index, y=y_hat['naive'], label='Naive Forecast')\n",
    "    plt.legend(loc='best')\n",
    "    plt.title(\"Naive Forecast\")\n",
    "    plt.show()\n",
    "    rms = sqrt(mean_squared_error(test, y_hat.naive))\n",
    "    mae = mean_absolute_error(test, y_hat.naive)\n",
    "    print('RMSE = '+str(rms))\n",
    "    print('MAE = '+str(mae))\n",
    "\n",
    "    index += 1\n",
    "\n",
    "    plt.show()"
   ]
  },
  {
   "cell_type": "code",
   "execution_count": null,
   "metadata": {},
   "outputs": [],
   "source": []
  }
 ],
 "metadata": {
  "kernelspec": {
   "display_name": "Python 3",
   "language": "python",
   "name": "python3"
  },
  "language_info": {
   "codemirror_mode": {
    "name": "ipython",
    "version": 3
   },
   "file_extension": ".py",
   "mimetype": "text/x-python",
   "name": "python",
   "nbconvert_exporter": "python",
   "pygments_lexer": "ipython3",
   "version": "3.8.8"
  }
 },
 "nbformat": 4,
 "nbformat_minor": 4
}
