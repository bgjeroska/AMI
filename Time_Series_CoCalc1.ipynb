{
 "cells": [
  {
   "cell_type": "markdown",
   "metadata": {},
   "source": [
    "# <span style='color:Blue'> TIME SERIES </span>"
   ]
  },
  {
   "cell_type": "markdown",
   "metadata": {},
   "source": [
    "### Import Libraries"
   ]
  },
  {
   "cell_type": "code",
   "execution_count": null,
   "metadata": {},
   "outputs": [],
   "source": [
    "import pandas as pd\n",
    "import numpy as np\n",
    "import matplotlib\n",
    "import matplotlib.pyplot as plt\n",
    "import seaborn as sns\n",
    "from sklearn.model_selection import TimeSeriesSplit\n",
    "from sklearn.metrics import mean_squared_error, mean_absolute_error\n",
    "from math import sqrt\n",
    "import datetime\n",
    "\n",
    "import statsmodels.api as sm\n",
    "\n",
    "%matplotlib inline\n",
    "sns.set_style('whitegrid')\n",
    "from IPython.display import set_matplotlib_formats\n",
    "set_matplotlib_formats('svg')"
   ]
  },
  {
   "cell_type": "markdown",
   "metadata": {},
   "source": [
    "### Load Data"
   ]
  },
  {
   "cell_type": "code",
   "execution_count": null,
   "metadata": {},
   "outputs": [],
   "source": [
    "# Read in hourly bitcoin price from conbase - price data provided via http://bitcoinity.org\n",
    "btc_data = pd.read_csv('http://data.bitcoinity.org/export_data.csv?currency=USD&data_type=price_volume&t=lb&timespan=all&vu=curr', parse_dates=['Time'])\n",
    "\n",
    "# Set the date/time to be the index for the dataframe\n",
    "btc_data.set_index('Time', inplace=True)\n",
    "print(btc_data.head())\n",
    "\n",
    "\n",
    "date_min = btc_data.index.min()\n",
    "date_max = btc_data.index.max()\n",
    "print('Minimum date from data set: {}'.format(date_min))\n",
    "print('Maximum date from data set: {}'.format(date_max))"
   ]
  },
  {
   "cell_type": "code",
   "execution_count": null,
   "metadata": {},
   "outputs": [],
   "source": [
    "# Task: Resample the data and handle the missing values with different method"
   ]
  },
  {
   "cell_type": "code",
   "execution_count": null,
   "metadata": {},
   "outputs": [],
   "source": [
    "# The 'MS' string groups the data in buckets by start of the month\n",
    "btc_data = btc_data['price'].resample('MS').mean()\n",
    "\n",
    "# The term bfill means that we use the value before filling in missing values\n",
    "btc_data = btc_data.fillna(btc_data.mean())\n",
    "\n",
    "btc_data = pd.DataFrame(btc_data)"
   ]
  },
  {
   "cell_type": "code",
   "execution_count": null,
   "metadata": {},
   "outputs": [],
   "source": [
    "plt.figure()\n",
    "sns.lineplot(x='Time',y='price',data=btc_data)\n",
    "plt.title('Bitcoin price',fontsize=12)\n",
    "plt.xlabel('year',fontsize=10)\n",
    "plt.ylabel('price',fontsize=10)\n",
    "plt.show()"
   ]
  },
  {
   "cell_type": "code",
   "execution_count": null,
   "metadata": {},
   "outputs": [],
   "source": [
    "from pandas.plotting import lag_plot\n",
    "\n",
    "lag_plot(btc_data)"
   ]
  },
  {
   "cell_type": "code",
   "execution_count": null,
   "metadata": {},
   "outputs": [],
   "source": [
    "# What can you observe from the lag plot?"
   ]
  },
  {
   "cell_type": "code",
   "execution_count": null,
   "metadata": {},
   "outputs": [],
   "source": [
    "# Let's plot ACF & PACF graphs to visualize AR & MA components\n",
    "import statsmodels.tsa.api as smt\n",
    "\n",
    "\n",
    "fig, axes = plt.subplots(1, 2)\n",
    "fig.set_figwidth(7.5)\n",
    "fig.set_figheight(3)\n",
    "smt.graphics.plot_acf(btc_data['price'], lags=30, ax=axes[0], alpha=0.5)\n",
    "smt.graphics.plot_pacf(btc_data['price'], lags=30, ax=axes[1], alpha=0.5)\n",
    "plt.tight_layout()"
   ]
  },
  {
   "cell_type": "markdown",
   "metadata": {},
   "source": [
    "#### Moving Average Smoothing\n",
    "\n",
    "\n",
    "Smoothing is a technique applied to time series to remove the fine-grained variation between time steps. The hope of smoothing is to remove noise and better expose the signal of the underlying causal processes. Moving averages are a simple and common type of smoothing used in time series analysis and time series forecasting. Calculating a moving average involves creating a new series where the values are comprised of the average of raw observations in the original time series.\n",
    "Also, moving average can help us to identify trends in time series. Becouse we are taking the average, it tends to smooth out noise and seasonality."
   ]
  },
  {
   "cell_type": "code",
   "execution_count": null,
   "metadata": {},
   "outputs": [],
   "source": [
    "# Task: Try different window size"
   ]
  },
  {
   "cell_type": "code",
   "execution_count": null,
   "metadata": {},
   "outputs": [],
   "source": [
    "# Let's plot the 30-Month Moving Rolling Mean and find Insights\n",
    "# Rolling Statistics\n",
    "btc_data[\"Moving_Average\"] = btc_data['price'].rolling(window=30, center=True).mean()\n",
    "\n",
    "sns.lineplot(x=btc_data.index, y=\"price\", data=btc_data)\n",
    "sns.lineplot(x=btc_data.index, y=\"Moving_Average\", data=btc_data)\n",
    "plt.xticks(rotation=15)\n",
    "plt.show()"
   ]
  },
  {
   "cell_type": "markdown",
   "metadata": {},
   "source": [
    "#### Seasonal Patterns in Time Series\n",
    "\n",
    "One way to think about the seasonal components to the time series of your data is to remove the trend from a time series, so that you can more easily investigate seasonality. To remove the trend, you can subtract the trend you computed above (rolling mean) from the original signal. This, however, will be dependent on how many data points you averaged over."
   ]
  },
  {
   "cell_type": "code",
   "execution_count": null,
   "metadata": {},
   "outputs": [],
   "source": [
    "btc_data[\"Trend_Corrected\"] = btc_data[\"price\"] - btc_data[\"Moving_Average\"]\n",
    "\n",
    "sns.lineplot(x=btc_data.index, y=\"Trend_Corrected\", data=btc_data)\n",
    "plt.xticks(rotation=15)\n",
    "plt.show()"
   ]
  },
  {
   "cell_type": "code",
   "execution_count": null,
   "metadata": {},
   "outputs": [],
   "source": [
    "# What can you observe from the plots above?"
   ]
  },
  {
   "cell_type": "markdown",
   "metadata": {},
   "source": [
    "### Decomposing: Eliminating trend and seasonality\n",
    "\n",
    "Time series decomposition involves thinking of a series as a combination of trend, seasonality, and noise components. Decomposition provides a useful abstract model for thinking about time series generally and for better understanding problems during time series analysis and forecasting."
   ]
  },
  {
   "cell_type": "code",
   "execution_count": null,
   "metadata": {},
   "outputs": [],
   "source": [
    "#Task: Try different numbers for period"
   ]
  },
  {
   "cell_type": "code",
   "execution_count": null,
   "metadata": {},
   "outputs": [],
   "source": [
    "decomposition_add = sm.tsa.seasonal_decompose(btc_data[\"price\"], period=12, model=\"additive\")\n",
    "# comment: seasonal_decompose expects index to be datetime format\n",
    "fig = decomposition_add.plot()\n",
    "plt.show()"
   ]
  },
  {
   "cell_type": "code",
   "execution_count": null,
   "metadata": {},
   "outputs": [],
   "source": [
    "def hist(series):\n",
    "    fig, ax= plt.subplots()\n",
    "    sns.distplot(series, ax=ax, hist_kws={'alpha': 0.8, 'edgecolor':'black', 'color': 'blue'},  \n",
    "                 kde_kws={'color': 'black', 'alpha': 0.7})\n",
    "    sns.despine()\n",
    "    return fig, ax\n",
    "\n",
    "hist(decomposition_add.resid)\n",
    "plt.show()"
   ]
  },
  {
   "cell_type": "markdown",
   "metadata": {},
   "source": [
    "## Naive Forecast"
   ]
  },
  {
   "cell_type": "code",
   "execution_count": null,
   "metadata": {},
   "outputs": [],
   "source": [
    "#Task: Implement different forecasting method"
   ]
  },
  {
   "cell_type": "code",
   "execution_count": null,
   "metadata": {},
   "outputs": [],
   "source": [
    "tscv = TimeSeriesSplit(n_splits=4)\n",
    "\n",
    "btc_price = btc_data['price']\n",
    "plt.figure(1)\n",
    "index = 1\n",
    "\n",
    "for train_index, test_index in tscv.split(btc_price):\n",
    "    \n",
    "    train = btc_price.iloc[train_index]\n",
    "    test = btc_price.iloc[test_index]\n",
    "\n",
    "    print('Observations: %d' % (len(train) + len(test)))\n",
    "    print('Training Observations: %d' % (len(train)))\n",
    "    print('Testing Observations: %d' % (len(test)))\n",
    "\n",
    "    \n",
    "    dd = np.asarray(train)\n",
    "\n",
    "    lastvalue = dd[len(dd)-1]\n",
    "\n",
    "    y_hat = pd.DataFrame()\n",
    "    y_hat['co2'] = test.values\n",
    "    \n",
    "    y_hat['naive'] = lastvalue\n",
    "    \n",
    "    y_hat.index = test.index\n",
    "\n",
    "    plt.figure()\n",
    "    sns.lineplot(x=train.index, y=train, label='Train')\n",
    "    sns.lineplot(x=test.index, y=test, label='Test')\n",
    "    sns.lineplot(x=y_hat.index, y=y_hat['naive'], label='Naive Forecast')\n",
    "    plt.legend(loc='best')\n",
    "    plt.title(\"Naive Forecast\")\n",
    "    plt.show()\n",
    "    rms = sqrt(mean_squared_error(test, y_hat.naive))\n",
    "    mae = mean_absolute_error(test, y_hat.naive)\n",
    "    print('RMSE = '+str(rms))\n",
    "    print('MAE = '+str(mae))\n",
    "\n",
    "    index += 1\n",
    "\n",
    "    plt.show()"
   ]
  },
  {
   "cell_type": "code",
   "execution_count": null,
   "metadata": {},
   "outputs": [],
   "source": []
  }
 ],
 "metadata": {
  "kernelspec": {
   "display_name": "Python 3",
   "language": "python",
   "name": "python3"
  },
  "language_info": {
   "codemirror_mode": {
    "name": "ipython",
    "version": 3
   },
   "file_extension": ".py",
   "mimetype": "text/x-python",
   "name": "python",
   "nbconvert_exporter": "python",
   "pygments_lexer": "ipython3",
   "version": "3.8.5"
  }
 },
 "nbformat": 4,
 "nbformat_minor": 4
}
